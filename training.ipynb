{
 "cells": [
  {
   "cell_type": "code",
   "execution_count": null,
   "id": "f9df55cd",
   "metadata": {},
   "outputs": [],
   "source": [
    "# import libraries\n",
    "import os\n",
    "import pandas as pd\n",
    "from vanna.ollama import Ollama\n",
    "from vanna.chromadb import ChromaDB_VectorStore"
   ]
  },
  {
   "cell_type": "code",
   "execution_count": null,
   "id": "301a0448",
   "metadata": {},
   "outputs": [],
   "source": [
    "# setup directory and filepath\n",
    "cdir = os.getcwd()\n",
    "chroma = os.path.join(cdir, \"database\")\n",
    "database = os.path.join(cdir, \"database.sqlite\")\n",
    "training = os.path.join(cdir, \"training\", \"dataset.csv\")"
   ]
  },
  {
   "cell_type": "code",
   "execution_count": null,
   "id": "717bb89d",
   "metadata": {},
   "outputs": [],
   "source": [
    "# instantiate vanna\n",
    "class Vanna(ChromaDB_VectorStore, Ollama):\n",
    "    def __init__(self, config=None) -> None:\n",
    "        ChromaDB_VectorStore.__init__(self, config=config)\n",
    "        Ollama.__init__(self, config=config)\n",
    "\n",
    "\n",
    "vn = Vanna(\n",
    "    config={\n",
    "        \"model\": \"qwen2.5:3b\",\n",
    "        \"path\": chroma,\n",
    "    }\n",
    ")"
   ]
  },
  {
   "cell_type": "code",
   "execution_count": null,
   "id": "bc88f18c",
   "metadata": {},
   "outputs": [],
   "source": [
    "# connect to database\n",
    "vn.connect_to_sqlite(database)"
   ]
  },
  {
   "cell_type": "code",
   "execution_count": null,
   "id": "0028c082",
   "metadata": {},
   "outputs": [],
   "source": [
    "# training with ddls\n",
    "ddls = vn.run_sql(\"SELECT type, sql FROM sqlite_master WHERE sql is not null\")\n",
    "for ddl in ddls[\"sql\"].to_list():\n",
    "    vn.train(ddl=ddl)"
   ]
  },
  {
   "cell_type": "code",
   "execution_count": null,
   "id": "541c4cf1",
   "metadata": {},
   "outputs": [],
   "source": [
    "# training with questions and answer pairs\n",
    "df = pd.read_csv(training, delimiter=\";\")\n",
    "\n",
    "for index, row in df.iterrows():\n",
    "    question = row[\"question\"]\n",
    "    answer = row[\"answer\"] + \";\"\n",
    "    vn.train(question=question, sql=answer)"
   ]
  }
 ],
 "metadata": {
  "kernelspec": {
   "display_name": ".venv",
   "language": "python",
   "name": "python3"
  },
  "language_info": {
   "codemirror_mode": {
    "name": "ipython",
    "version": 3
   },
   "file_extension": ".py",
   "mimetype": "text/x-python",
   "name": "python",
   "nbconvert_exporter": "python",
   "pygments_lexer": "ipython3",
   "version": "3.11.3"
  }
 },
 "nbformat": 4,
 "nbformat_minor": 5
}
